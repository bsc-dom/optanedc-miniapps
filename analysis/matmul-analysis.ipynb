{
 "cells": [
  {
   "cell_type": "code",
   "execution_count": null,
   "metadata": {},
   "outputs": [],
   "source": [
    "# Boilerplate that all notebooks reuse:\n",
    "from analysis_common import *\n",
    "\n",
    "%matplotlib inline"
   ]
  },
  {
   "cell_type": "markdown",
   "metadata": {},
   "source": [
    "# Kernel analysis"
   ]
  },
  {
   "cell_type": "code",
   "execution_count": null,
   "metadata": {},
   "outputs": [],
   "source": [
    "df = read_ods(\"./results.ods\", \"matmul-kernel\")\n",
    "\n",
    "expand_modes(df)\n",
    "\n",
    "print(df[\"MODE\"].unique())\n",
    "#############################################\n",
    "# Disregard the store result for the kernel #\n",
    "#############################################\n",
    "df.loc[df[\"MODE\"] == \"AD (volatile result)\", \"MODE\"] = \"AD\"\n",
    "order = ['DRAM', 'AD', 'AD (in-place FMA)', 'MM (hot)', 'MM (cold)']\n",
    "hue_order = [7000, 1000]\n",
    "# Split the two families of experiments\n",
    "df_rowcol = df[df.MATRIX_SIDE != 0]\n",
    "df = df[df.MATRIX_SIDE == 0]\n",
    "\n",
    "sns.barplot(x='MODE', y='TIMING',\n",
    "            data=df[(df.BLOCKSIZE == 1000)],\n",
    "            capsize=0.1,\n",
    "            order=order,\n",
    "            palette=custom_kernel_palette(6))\n",
    "plt.title(\"Submatrix size: 1000x1000 (small object)\")\n",
    "plt.xticks(rotation=25, horizontalalignment='right')\n",
    "plt.show()\n",
    "\n",
    "sns.barplot(x='MODE', y='TIMING',\n",
    "            data=df[(df.BLOCKSIZE == 7000)],\n",
    "            capsize=0.1,\n",
    "            order=order,\n",
    "            palette=custom_kernel_palette(6))\n",
    "plt.title(\"Submatrix size: 7000x7000 (big object)\")\n",
    "plt.xticks(rotation=25, horizontalalignment='right')\n",
    "plt.show()\n",
    "\n",
    "###################################\n",
    "\n",
    "# sns.barplot(x='MODE', y='TIMING',\n",
    "#             data=df_rowcol[(df_rowcol.BLOCKSIZE == 1000)],\n",
    "#             capsize=0.1,\n",
    "#             order=order,\n",
    "#             palette=palette)\n",
    "# plt.title(\"BLOCKSIZE: 1k || row x col\")\n",
    "# plt.xticks(rotation=25, horizontalalignment='right')\n",
    "# plt.show()\n",
    "\n",
    "# sns.barplot(x='MODE', y='TIMING',\n",
    "#             data=df_rowcol[(df_rowcol.BLOCKSIZE == 7000)],\n",
    "#             capsize=0.1,\n",
    "#             order=order,\n",
    "#             palette=palette)\n",
    "# plt.title(\"BLOCKSIZE: 7k || row x col\")\n",
    "# plt.xticks(rotation=25, horizontalalignment='right')\n",
    "# plt.show()\n",
    "\n",
    "# Remove MM-NVM as it is outlier-ish\n",
    "#df = df[df.MODE != 'MM-NVM']\n",
    "# ... or maybe not? trying set_ylim maybe:\n",
    "#axes = plt.gca()\n",
    "#axes.set_ylim([0,1.5])\n",
    "#plt.title(\"...\")\n",
    "#plt.show()"
   ]
  },
  {
   "cell_type": "code",
   "execution_count": null,
   "metadata": {},
   "outputs": [],
   "source": [
    "df.loc[(df.BLOCKSIZE == 1000), \"NORMALIZED\"] = df.TIMING \n",
    "df.loc[(df.BLOCKSIZE == 7000), \"NORMALIZED\"] = df.TIMING / (7*7*7)\n",
    "\n",
    "ax = sns.barplot(y='MODE', x='NORMALIZED',\n",
    "                 data=df,\n",
    "                 capsize=0.1,\n",
    "                 order=order,\n",
    "                 hue_order=hue_order,\n",
    "                 hue=\"BLOCKSIZE\",\n",
    "                 palette=\"muted\")\n",
    "\n",
    "kernel_plot_tweaks(ax, 7*7*7, legend_title=\"Submatrix blocksize\")\n",
    "\n",
    "plt.savefig(\"matmul-kernel.pdf\", bbox_inches='tight')\n",
    "plt.show()\n"
   ]
  },
  {
   "cell_type": "code",
   "execution_count": null,
   "metadata": {},
   "outputs": [],
   "source": [
    "kernel_times = df.groupby([\"BLOCKSIZE\", \"MODE\"]).min()\n",
    "kernel_times"
   ]
  },
  {
   "cell_type": "code",
   "execution_count": null,
   "metadata": {},
   "outputs": [],
   "source": [
    "#rowcol_times = df_rowcol.groupby([\"BLOCKSIZE\", \"MODE\"]).min()\n",
    "#rowcol_times"
   ]
  },
  {
   "cell_type": "markdown",
   "metadata": {},
   "source": [
    "# Matmul results analysis"
   ]
  },
  {
   "cell_type": "code",
   "execution_count": null,
   "metadata": {},
   "outputs": [],
   "source": [
    "df = read_ods(\"./results.ods\", \"matmul-app\")\n",
    "expand_modes(df)\n",
    "df"
   ]
  },
  {
   "cell_type": "code",
   "execution_count": null,
   "metadata": {},
   "outputs": [],
   "source": [
    "for bs in [1000, 7000]:\n",
    "    df.loc[(df.BLOCKSIZE == bs) & (df.MODE == \"DRAM\"), \"ATOM_KERNEL\"] =  \\\n",
    "        kernel_times.loc[(bs, \"DRAM\"), \"TIMING\"]\n",
    "    df.loc[(df.BLOCKSIZE == bs) & (df.MODE == \"AD (volatile result)\"), \"ATOM_KERNEL\"] =  \\\n",
    "        kernel_times.loc[(bs, \"AD\"), \"TIMING\"]\n",
    "    df.loc[(df.BLOCKSIZE == bs) & (df.MODE == \"AD (store result)\"), \"ATOM_KERNEL\"] =  \\\n",
    "        kernel_times.loc[(bs, \"AD\"), \"TIMING\"]\n",
    "    df.loc[(df.BLOCKSIZE == bs) & (df.MODE == \"AD (in-place FMA)\"), \"ATOM_KERNEL\"] =  \\\n",
    "        kernel_times.loc[(bs, \"AD (in-place FMA)\"), \"TIMING\"]\n",
    "    df.loc[(df.BLOCKSIZE == bs) & (df.MODE == \"DAOS (volatile result)\"), \"ATOM_KERNEL\"] =  \\\n",
    "        kernel_times.loc[(bs, \"DRAM\"), \"TIMING\"]\n",
    "    df.loc[(df.BLOCKSIZE == bs) & (df.MODE == \"DAOS (store result)\"), \"ATOM_KERNEL\"] =  \\\n",
    "        kernel_times.loc[(bs, \"DRAM\"), \"TIMING\"]\n",
    "\n",
    "df.loc[(df.BLOCKSIZE == 1000) \n",
    "       & (df.MATRIX_SIDE == 42) \n",
    "       & (df.MODE == \"MM\"),\n",
    "       \"ATOM_KERNEL\"] = kernel_times.loc[(1000, \"MM (hot)\"), \"TIMING\"]\n",
    "df.loc[(df.BLOCKSIZE == 7000) \n",
    "       & (df.MATRIX_SIDE == 6)\n",
    "       & (df.MODE == \"MM\"),\n",
    "       \"ATOM_KERNEL\"] = kernel_times.loc[(7000, \"MM (hot)\"), \"TIMING\"]\n",
    "df.loc[(df.BLOCKSIZE == 1000) \n",
    "       & (df.MATRIX_SIDE == 84)\n",
    "       & (df.MODE == \"MM\"),\n",
    "       \"ATOM_KERNEL\"] = kernel_times.loc[(1000, \"MM (cold)\"), \"TIMING\"]\n",
    "df.loc[(df.BLOCKSIZE == 7000) \n",
    "       & (df.MATRIX_SIDE == 12)\n",
    "       & (df.MODE == \"MM\"),\n",
    "       \"ATOM_KERNEL\"] = kernel_times.loc[(7000, \"MM (cold)\"), \"TIMING\"]\n",
    "\n",
    "df[\"KERNEL_TIME\"] = df[\"MATRIX_SIDE\"]**3 * df[\"ATOM_KERNEL\"]\n",
    "\n",
    "# Sanity check\n",
    "null_values = df[df.isnull().values]\n",
    "if len(null_values) > 0:\n",
    "    print('There are null values, check null_values variable')"
   ]
  },
  {
   "cell_type": "code",
   "execution_count": null,
   "metadata": {},
   "outputs": [],
   "source": [
    "df"
   ]
  },
  {
   "cell_type": "markdown",
   "metadata": {},
   "source": [
    "# Article image generation"
   ]
  },
  {
   "cell_type": "code",
   "execution_count": null,
   "metadata": {},
   "outputs": [],
   "source": [
    "sns.set(style=\"whitegrid\")\n",
    "\n",
    "order = ['DRAM', 'AD (volatile result)', 'AD (store result)', 'AD (in-place FMA)', \n",
    "         'MM', 'DAOS (volatile result)', 'DAOS (store result)']\n",
    "\n",
    "small = (\n",
    "    ((df.BLOCKSIZE == 1000) & (df.MATRIX_SIDE == 42)) |\n",
    "    ((df.BLOCKSIZE == 7000) & (df.MATRIX_SIDE == 6))\n",
    ")\n",
    "\n",
    "big = (\n",
    "    ((df.BLOCKSIZE == 1000) & (df.MATRIX_SIDE == 84)) |\n",
    "    ((df.BLOCKSIZE == 7000) & (df.MATRIX_SIDE == 12))\n",
    ")\n",
    "\n",
    "ax = sns.barplot(y='MODE', x=\"TIMING\",\n",
    "                 data=df[small],\n",
    "                 capsize=0.1,\n",
    "                 order=order,\n",
    "                 hue_order=hue_order,\n",
    "                 palette=\"colorblind\",\n",
    "                 hue=df.BLOCKSIZE)\n",
    "\n",
    "bottom = sns.barplot(y='MODE', x=\"KERNEL_TIME\",\n",
    "            data=df[small],\n",
    "            capsize=0,\n",
    "            order=order,\n",
    "            hue_order=hue_order,\n",
    "            palette=\"pastel\",\n",
    "            hue=df.BLOCKSIZE)\n",
    "\n",
    "crop_axis(ax, 800)\n",
    "ylabel_tweaks(ax, [2, 5], ['non-active', 'active'], 0.40, 0.005)\n",
    "legend_tweaks(bottom, [\"big objects\", \"small objects\", \"kernel comp.\"], placement='upper center')\n",
    "ax.set_xlabel(\"execution time (s)\")\n",
    "plt.title(\"Small dataset\")\n",
    "save_tweaks(\"matmul-small.pdf\", big=True)\n",
    "plt.show()\n",
    "\n",
    "ax = sns.barplot(y='MODE', x=\"TIMING\",\n",
    "                 data=df[big],\n",
    "                 capsize=0.1,\n",
    "                 order=order,\n",
    "                 hue_order=hue_order,\n",
    "                 palette=\"colorblind\",\n",
    "                 hue=df.BLOCKSIZE)\n",
    "\n",
    "annotate_dram(ax)\n",
    "\n",
    "bottom = sns.barplot(y='MODE', x=\"KERNEL_TIME\",\n",
    "            data=df[big],\n",
    "            capsize=0,\n",
    "            order=order,\n",
    "            hue_order=hue_order,\n",
    "            palette=\"pastel\",\n",
    "            hue=df.BLOCKSIZE)\n",
    "\n",
    "crop_axis(ax, 6000)\n",
    "ylabel_tweaks(ax, [2, 5], ['non-active', 'active'], 0.40, 0.005)\n",
    "legend_tweaks(bottom, [\"big objects\", \"small objects\", \"kernel comp.\"], placement='upper center')\n",
    "ax.set_xlabel(\"execution time (s)\")\n",
    "plt.title(\"Big dataset\")\n",
    "save_tweaks(\"matmul-big.pdf\", big=True)\n",
    "plt.show()"
   ]
  },
  {
   "cell_type": "code",
   "execution_count": null,
   "metadata": {},
   "outputs": [],
   "source": [
    "df.groupby([\"BLOCKSIZE\", \"MATRIX_SIDE\", \"MODE\"]).mean()"
   ]
  },
  {
   "cell_type": "code",
   "execution_count": null,
   "metadata": {},
   "outputs": [],
   "source": []
  }
 ],
 "metadata": {
  "language_info": {
   "name": "python",
   "pygments_lexer": "ipython3"
  }
 },
 "nbformat": 4,
 "nbformat_minor": 2
}
