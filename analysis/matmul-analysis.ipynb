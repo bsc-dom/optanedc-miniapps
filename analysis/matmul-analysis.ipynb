{
 "cells": [
  {
   "cell_type": "markdown",
   "metadata": {},
   "source": [
    "# Matmul results analysis"
   ]
  },
  {
   "cell_type": "code",
   "execution_count": null,
   "metadata": {},
   "outputs": [],
   "source": [
    "import pandas as pd\n",
    "import seaborn as sns\n",
    "import matplotlib.pyplot as plt\n",
    "%matplotlib inline\n",
    "\n",
    "def plt_clean_legend():\n",
    "    original = plt.gca().get_legend_handles_labels()\n",
    "    result = ([], [])\n",
    "    for artist, label in zip(*original):\n",
    "        try:\n",
    "            if label == result[1][-1]:\n",
    "                continue\n",
    "        except:\n",
    "            pass\n",
    "\n",
    "        result[0].append(artist)\n",
    "        result[1].append(label)\n",
    "    plt.legend(result[0], result[1], loc=\"lower left\")\n"
   ]
  },
  {
   "cell_type": "code",
   "execution_count": null,
   "metadata": {},
   "outputs": [],
   "source": [
    "df = pd.read_csv(\"./matmul.csv\") #, index_col=[0,1,2])\n",
    "df"
   ]
  },
  {
   "cell_type": "markdown",
   "metadata": {},
   "source": [
    "# Article image generation"
   ]
  },
  {
   "cell_type": "code",
   "execution_count": null,
   "metadata": {},
   "outputs": [],
   "source": [
    "sns.set(style=\"whitegrid\")\n",
    "\n",
    "# First and last should be consistent, and reverse for consistency\n",
    "palette = sns.color_palette(n_colors=5)\n",
    "palette = list(reversed(palette))\n",
    "\n",
    "ax = sns.barplot(x='mode', y='matmul',\n",
    "                 data=df[(df.blocksize == 4096) & (df.matrixsize==7)],\n",
    "                 capsize=0.1,\n",
    "                 order=reversed(['mm', 'ad-dcnvm-resultnvm', 'ad-dcnvm-wram', 'ad-dcnvm-resultram', 'ad-ram']),\n",
    "                 palette=palette)\n",
    "\n",
    "ax.set_xticklabels(reversed(['mm', 'ad-resultnvm', 'ad-wram', 'ad-resultram', 'ad-ram']))\n",
    "\n",
    "plt.ylabel(\"execution time (seconds)\")\n",
    "plt.xlabel(None)\n",
    "plt.xticks(rotation=25, horizontalalignment='right')\n",
    "plt.savefig(\"matmul-small.pdf\", bbox_inches='tight')\n",
    "plt.show()\n",
    "\n",
    "ax = sns.barplot(x='mode', y='matmul',\n",
    "                 data=df[(df.blocksize == 4096) & (df.matrixsize == 12)],\n",
    "                 capsize=0.1,\n",
    "                 order=reversed(['mm', 'ad-dcnvm-resultnvm', 'ad-dcnvm-wram', 'ad-dcnvm-resultram']),\n",
    "                 palette=palette[1:]\n",
    "                 )\n",
    "\n",
    "ax.set_xticklabels(reversed(['mm', 'ad-resultnvm', 'ad-wram', 'ad-resultram']))\n",
    "\n",
    "plt.ylabel(\"execution time (seconds)\")\n",
    "plt.xlabel(None)\n",
    "plt.xticks(rotation=25, horizontalalignment='right')\n",
    "plt.savefig(\"matmul-medium.pdf\", bbox_inches='tight')\n",
    "plt.show()\n",
    "\n",
    "ax = sns.barplot(x='mode', y='matmul',\n",
    "                 data=df[(df.blocksize == 4096) & (df.matrixsize == 14)],\n",
    "                 capsize=0.1,\n",
    "                 order=reversed(['mm', 'ad-dcnvm-resultnvm', 'ad-dcnvm-wram']),\n",
    "                 palette=palette[2:])\n",
    "\n",
    "ax.set_xticklabels(reversed(['mm', 'ad-resultnvm', 'ad-wram']))\n",
    "\n",
    "plt.ylabel(\"execution time (seconds)\")\n",
    "plt.xlabel(None)\n",
    "plt.xticks(rotation=25, horizontalalignment='right')\n",
    "plt.savefig(\"matmul-big.pdf\", bbox_inches='tight')\n",
    "plt.show()\n"
   ]
  },
  {
   "cell_type": "code",
   "execution_count": null,
   "metadata": {},
   "outputs": [],
   "source": [
    "df[(df.blocksize == 4096) & (df.matrixsize==7)].groupby(\"mode\").mean()"
   ]
  },
  {
   "cell_type": "code",
   "execution_count": null,
   "metadata": {},
   "outputs": [],
   "source": [
    "df[(df.blocksize == 4096) & (df.matrixsize == 12)].groupby(\"mode\").mean()"
   ]
  },
  {
   "cell_type": "code",
   "execution_count": null,
   "metadata": {},
   "outputs": [],
   "source": [
    "df[(df.blocksize == 4096) & (df.matrixsize == 14)].groupby(\"mode\").mean()"
   ]
  },
  {
   "cell_type": "code",
   "execution_count": null,
   "metadata": {},
   "outputs": [],
   "source": []
  }
 ],
 "metadata": {
  "language_info": {
   "name": "python",
   "pygments_lexer": "ipython3"
  }
 },
 "nbformat": 4,
 "nbformat_minor": 2
}
