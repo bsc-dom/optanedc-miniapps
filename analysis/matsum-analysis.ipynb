{
 "cells": [
  {
   "cell_type": "code",
   "execution_count": null,
   "metadata": {},
   "outputs": [],
   "source": [
    "# Boilerplate that all notebooks reuse:\n",
    "from analysis_common import *\n",
    "\n",
    "%matplotlib inline"
   ]
  },
  {
   "cell_type": "markdown",
   "metadata": {},
   "source": [
    "# Kernel analysis"
   ]
  },
  {
   "cell_type": "code",
   "execution_count": null,
   "metadata": {},
   "outputs": [],
   "source": [
    "df = read_ods(\"./results.ods\", \"matsum-kernel\")\n",
    "\n",
    "#############################################\n",
    "# Disregard the store result for the kernel #\n",
    "df.drop(index=df[df[\"RESULT_IN_NVRAM\"] == 1].index, columns=\"RESULT_IN_NVRAM\", inplace=True)\n",
    "df.rename(columns={\"INPUT_IN_NVRAM\": \"EXEC_IN_NVRAM\"}, inplace=True)\n",
    "#############################################\n",
    "\n",
    "expand_modes(df)\n",
    "\n",
    "order = ['DRAM', 'AD', 'MM (hot)', 'MM (cold)']\n",
    "\n",
    "sns.barplot(x='MODE', y='TIMING',\n",
    "            data=df[(df.BLOCKSIZE == 1000)],\n",
    "            capsize=0.1,\n",
    "            order=order,\n",
    "            palette=custom_kernel_palette(5))\n",
    "plt.title(\"Submatrix size: 1000x1000 (small object)\")\n",
    "plt.ylabel(\"kernel exec time (s)\")\n",
    "plt.xticks(rotation=25, horizontalalignment='right')\n",
    "plt.show()\n",
    "\n",
    "sns.barplot(x='MODE', y='TIMING',\n",
    "            data=df[(df.BLOCKSIZE == 7000)],\n",
    "            capsize=0.1,\n",
    "            order=order,\n",
    "            palette=custom_kernel_palette(5))\n",
    "plt.title(\"Submatrix size: 7000x7000 (big object)\")\n",
    "plt.ylabel(\"kernel exec time (s)\")\n",
    "plt.xticks(rotation=25, horizontalalignment='right')\n",
    "plt.show()"
   ]
  },
  {
   "cell_type": "code",
   "execution_count": null,
   "metadata": {},
   "outputs": [],
   "source": [
    "df.loc[(df.BLOCKSIZE == 1000), \"NORMALIZED\"] = df.TIMING \n",
    "df.loc[(df.BLOCKSIZE == 7000), \"NORMALIZED\"] = df.TIMING / (7*7)\n",
    "\n",
    "ax = sns.barplot(x='MODE', y='NORMALIZED',\n",
    "                 data=df,\n",
    "                 capsize=0.1,\n",
    "                 order=order,\n",
    "                 hue=\"BLOCKSIZE\",\n",
    "                 palette=\"Set2\")\n",
    "\n",
    "kernel_plot_tweaks(ax, 7*7, legend_title=\"Submatrix blocksize\", rotate=True)\n",
    "\n",
    "plt.show()\n"
   ]
  },
  {
   "cell_type": "code",
   "execution_count": null,
   "metadata": {},
   "outputs": [],
   "source": [
    "kernel_times = df.groupby([\"BLOCKSIZE\", \"MODE\"]).min()\n",
    "kernel_times"
   ]
  },
  {
   "cell_type": "markdown",
   "metadata": {},
   "source": [
    "# Matsumresults analysis"
   ]
  },
  {
   "cell_type": "code",
   "execution_count": null,
   "metadata": {},
   "outputs": [],
   "source": [
    "df = read_ods(\"./results.ods\", \"matsum-app\")\n",
    "expand_modes(df)"
   ]
  },
  {
   "cell_type": "code",
   "execution_count": null,
   "metadata": {},
   "outputs": [],
   "source": [
    "for bs in [1000, 7000]:\n",
    "    df.loc[(df.BLOCKSIZE == bs) & (df.MODE == \"DRAM\"), \"ATOM_KERNEL\"] =  \\\n",
    "        kernel_times.loc[(bs, \"DRAM\"), \"TIMING\"]\n",
    "    df.loc[(df.BLOCKSIZE == bs) & (df.MODE == \"AD (volatile result)\"), \"ATOM_KERNEL\"] =  \\\n",
    "        kernel_times.loc[(bs, \"AD\"), \"TIMING\"]\n",
    "    df.loc[(df.BLOCKSIZE == bs) & (df.MODE == \"AD (store result)\"), \"ATOM_KERNEL\"] =  \\\n",
    "        kernel_times.loc[(bs, \"AD\"), \"TIMING\"]\n",
    "    df.loc[(df.BLOCKSIZE == bs) & (df.MODE == \"DAOS (volatile result)\"), \"ATOM_KERNEL\"] =  \\\n",
    "        kernel_times.loc[(bs, \"DRAM\"), \"TIMING\"]\n",
    "    df.loc[(df.BLOCKSIZE == bs) & (df.MODE == \"DAOS (store result)\"), \"ATOM_KERNEL\"] =  \\\n",
    "        kernel_times.loc[(bs, \"DRAM\"), \"TIMING\"]\n",
    "\n",
    "df.loc[(df.BLOCKSIZE == 1000) \n",
    "       & (df.MATRIX_SIDE == 42) \n",
    "       & (df.MODE == \"MM\"),\n",
    "       \"ATOM_KERNEL\"] = kernel_times.loc[(1000, \"MM (hot)\"), \"TIMING\"]\n",
    "df.loc[(df.BLOCKSIZE == 7000) \n",
    "       & (df.MATRIX_SIDE == 6)\n",
    "       & (df.MODE == \"MM\"),\n",
    "       \"ATOM_KERNEL\"] = kernel_times.loc[(7000, \"MM (hot)\"), \"TIMING\"]\n",
    "df.loc[(df.BLOCKSIZE == 1000) \n",
    "       & (df.MATRIX_SIDE == 84) \n",
    "       & (df.MODE == \"MM\"),\n",
    "       \"ATOM_KERNEL\"] = kernel_times.loc[(1000, \"MM (cold)\"), \"TIMING\"]\n",
    "df.loc[(df.BLOCKSIZE == 7000) \n",
    "       & (df.MATRIX_SIDE == 12)\n",
    "       & (df.MODE == \"MM\"),\n",
    "       \"ATOM_KERNEL\"] = kernel_times.loc[(7000, \"MM (cold)\"), \"TIMING\"]\n",
    "\n",
    "df[\"KERNEL_TIME\"] = df[\"MATRIX_SIDE\"]**2 * df[\"ATOM_KERNEL\"]\n",
    "\n",
    "# Sanity check\n",
    "null_values = df[df.isnull().values]\n",
    "if len(null_values) > 0:\n",
    "    print('There are null values, check null_values variable')"
   ]
  },
  {
   "cell_type": "code",
   "execution_count": null,
   "metadata": {},
   "outputs": [],
   "source": [
    "null_values"
   ]
  },
  {
   "cell_type": "code",
   "execution_count": null,
   "metadata": {},
   "outputs": [],
   "source": [
    "small = (\n",
    "    ((df.BLOCKSIZE == 1000) & (df.MATRIX_SIDE == 42)) |\n",
    "    ((df.BLOCKSIZE == 7000) & (df.MATRIX_SIDE == 6))\n",
    ")\n",
    "\n",
    "big = (\n",
    "    ((df.BLOCKSIZE == 1000) & (df.MATRIX_SIDE == 84)) |\n",
    "    ((df.BLOCKSIZE == 7000) & (df.MATRIX_SIDE == 12))\n",
    ")\n",
    "\n",
    "order = [\"DRAM\", \"AD (volatile result)\", \"AD (store result)\", \"DAOS (volatile result)\", \"DAOS (store result)\"]\n",
    "\n",
    "ax = sns.barplot(x='MODE', y=\"TIMING\",\n",
    "                 data=df[small],\n",
    "                 capsize=0.1,\n",
    "                 order=order,\n",
    "                 palette=\"Set1\",\n",
    "                 hue=df.BLOCKSIZE)\n",
    "\n",
    "bottom = sns.barplot(x='MODE', y=\"KERNEL_TIME\",\n",
    "            data=df[small],\n",
    "            capsize=0,\n",
    "            order=order,\n",
    "            palette=\"Set2\",\n",
    "            hue=df.BLOCKSIZE)\n",
    "\n",
    "xlabel_tweaks(ax, 3, 2, rotate=True)\n",
    "legend_tweaks(bottom, [\"small objects\", \"big objects\", \"kernel comp.\"], placement='upper left')\n",
    "plt.title(\"Small dataset\")\n",
    "plt.show()\n",
    "\n",
    "ax = sns.barplot(x='MODE', y=\"TIMING\",\n",
    "                 data=df[big],\n",
    "                 capsize=0.1,\n",
    "                 order=order,\n",
    "                 palette=\"Set1\",\n",
    "                 hue=df.BLOCKSIZE)\n",
    "\n",
    "annotate_dram(ax)\n",
    "\n",
    "bottom = sns.barplot(x='MODE', y=\"KERNEL_TIME\",\n",
    "            data=df[big],\n",
    "            capsize=0,\n",
    "            order=order,\n",
    "            palette=\"Set2\",\n",
    "            hue=df.BLOCKSIZE)\n",
    "\n",
    "xlabel_tweaks(ax, 3, 2, rotate=True)\n",
    "legend_tweaks(bottom, [\"small objects\", \"big objects\", \"kernel comp.\"], placement='upper left')\n",
    "plt.title(\"Big dataset\")\n",
    "plt.show()\n"
   ]
  },
  {
   "cell_type": "code",
   "execution_count": null,
   "metadata": {},
   "outputs": [],
   "source": []
  }
 ],
 "metadata": {
  "language_info": {
   "name": "python",
   "pygments_lexer": "ipython3"
  }
 },
 "nbformat": 4,
 "nbformat_minor": 2
}
