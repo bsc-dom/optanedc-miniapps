{
 "cells": [
  {
   "cell_type": "code",
   "execution_count": null,
   "metadata": {},
   "outputs": [],
   "source": [
    "# Boilerplate that all notebooks reuse:\n",
    "from analysis_common import *\n",
    "\n",
    "%matplotlib inline"
   ]
  },
  {
   "cell_type": "markdown",
   "metadata": {},
   "source": [
    "# Kernel analysis"
   ]
  },
  {
   "cell_type": "code",
   "execution_count": null,
   "metadata": {},
   "outputs": [],
   "source": [
    "df = read_ods(\"./results.ods\", \"kmeans-kernel\")\n",
    "expand_modes(df)\n",
    "\n",
    "sns.barplot(x='MODE', y='TIMING',\n",
    "            data=df[(df.POINTS_PER_FRAGMENT == 200000)],\n",
    "            capsize=0.1,\n",
    "            order=['AD', 'AD-NVM', 'MM-DRAM', 'MM-NVM'],\n",
    "            palette=palette)\n",
    "plt.title(\"POINTS: 200k\")\n",
    "plt.show()\n",
    "\n",
    "\n",
    "sns.barplot(x='MODE', y='TIMING',\n",
    "            data=df[(df.POINTS_PER_FRAGMENT == 4000)],\n",
    "            capsize=0.1,\n",
    "            order=['AD', 'AD-NVM', 'MM-DRAM', 'MM-NVM'],\n",
    "            palette=palette)\n",
    "plt.title(\"POINTS: 4k\")\n",
    "plt.show()\n",
    "\n",
    "n_n_points = 100000\n",
    "normalized_value = n_n_points / df[(df.MODE == \"AD\") & (df.POINTS_PER_FRAGMENT == n_n_points)][\"TIMING\"].mean()\n",
    "df[\"NORMALIZED\"] = normalized_value * df[\"TIMING\"] / df[\"POINTS_PER_FRAGMENT\"]\n",
    "\n",
    "\n",
    "sns.catplot(x='POINTS_PER_FRAGMENT', y='NORMALIZED', hue='MODE',\n",
    "            capsize=0.1, kind='bar', data=df, palette=palette)\n",
    "plt.show()"
   ]
  },
  {
   "cell_type": "code",
   "execution_count": null,
   "metadata": {},
   "outputs": [],
   "source": [
    "kernel_mean_times = df.groupby([\"POINTS_PER_FRAGMENT\", \"MODE\"]).mean()\n",
    "kernel_mean_times"
   ]
  },
  {
   "cell_type": "markdown",
   "metadata": {},
   "source": [
    "# _k_-means results analysis"
   ]
  },
  {
   "cell_type": "code",
   "execution_count": null,
   "metadata": {},
   "outputs": [],
   "source": [
    "df = read_ods(\"./results.ods\", \"kmeans-app\")\n",
    "expand_modes(df)"
   ]
  },
  {
   "cell_type": "code",
   "execution_count": null,
   "metadata": {},
   "outputs": [],
   "source": [
    "for ppf in [200000, 4000]:\n",
    "    df.loc[(df.POINTS_PER_FRAGMENT == ppf) & (df.MODE == \"AD\"), \"ATOM_KERNEL\"] =  \\\n",
    "        kernel_mean_times.loc[(ppf, \"AD\"), \"TIMING\"]\n",
    "    df.loc[(df.POINTS_PER_FRAGMENT == ppf) & (df.MODE == \"AD-NVM\"), \"ATOM_KERNEL\"] =  \\\n",
    "        kernel_mean_times.loc[(ppf, \"AD-NVM\"), \"TIMING\"]\n",
    "    df.loc[(df.POINTS_PER_FRAGMENT == ppf) & (df.MODE == \"DAOS\"), \"ATOM_KERNEL\"] =  \\\n",
    "        kernel_mean_times.loc[(ppf, \"AD\"), \"TIMING\"]\n",
    "    df.loc[(df.POINTS_PER_FRAGMENT == ppf) & (df.MODE == \"DC-NONACT\"), \"ATOM_KERNEL\"] = \\\n",
    "        kernel_mean_times.loc[(ppf, \"AD\"), \"TIMING\"]\n",
    "\n",
    "df[\"KERNEL_TIME\"] = df[\"NUMBER_OF_FRAGMENTS\"] * df[\"KMEANS_ITERATIONS\"] * df[\"ATOM_KERNEL\"]\n",
    "\n",
    "# Sanity check\n",
    "null_values = df[df.isnull().values]\n",
    "if len(null_values) > 0:\n",
    "    null_values # show that"
   ]
  },
  {
   "cell_type": "code",
   "execution_count": null,
   "metadata": {},
   "outputs": [],
   "source": [
    "small = (\n",
    "    ((df.POINTS_PER_FRAGMENT == 200000) & (df.NUMBER_OF_FRAGMENTS == 16)) |\n",
    "    ((df.POINTS_PER_FRAGMENT == 4000) & (df.NUMBER_OF_FRAGMENTS == 800))\n",
    ")\n",
    "\n",
    "big = (\n",
    "    ((df.POINTS_PER_FRAGMENT == 200000) & (df.NUMBER_OF_FRAGMENTS == 64)) |\n",
    "    ((df.POINTS_PER_FRAGMENT == 4000) & (df.NUMBER_OF_FRAGMENTS == 3200))\n",
    ")\n",
    "\n",
    "sns.barplot(x='MODE', y=\"TIMING\",\n",
    "            data=df[small],\n",
    "            capsize=0.1,\n",
    "            hue=df.POINTS_PER_FRAGMENT)\n",
    "\n",
    "bottom = sns.barplot(x='MODE', y=\"KERNEL_TIME\",\n",
    "            data=df[small],\n",
    "            capsize=0,\n",
    "            color=\"red\",\n",
    "            alpha=0.6,\n",
    "            hue=df.POINTS_PER_FRAGMENT)\n",
    "\n",
    "special_cols = len(bottom.patches) // 2\n",
    "for i, bar in enumerate(bottom.patches[-special_cols:]):\n",
    "    current_width = bar.get_width()\n",
    "    diff = 0.05\n",
    "    # we change the bar width\n",
    "    bar.set_width(current_width + diff)\n",
    "\n",
    "    # we recenter the bar\n",
    "    if i < (special_cols // 2):\n",
    "        bar.set_x(bar.get_x() - diff)\n",
    "plt.show()\n",
    "\n",
    "sns.barplot(x='MODE', y=\"TIMING\",\n",
    "            data=df[big],\n",
    "            capsize=0.1,\n",
    "            hue=df.POINTS_PER_FRAGMENT)\n",
    "\n",
    "bottom = sns.barplot(x='MODE', y=\"KERNEL_TIME\",\n",
    "            data=df[big],\n",
    "            capsize=0,\n",
    "            color=\"blue\",\n",
    "            alpha=0.6,\n",
    "            hue=df.POINTS_PER_FRAGMENT)\n",
    "\n",
    "special_cols = len(bottom.patches) // 2\n",
    "for i, bar in enumerate(bottom.patches[-special_cols:]):\n",
    "    current_width = bar.get_width()\n",
    "    diff = 0.05\n",
    "    # we change the bar width\n",
    "    bar.set_width(current_width + diff)\n",
    "\n",
    "    # we recenter the bar\n",
    "    if i < (special_cols // 2):\n",
    "        bar.set_x(bar.get_x() - diff)\n",
    "plt.show()"
   ]
  },
  {
   "cell_type": "code",
   "execution_count": null,
   "metadata": {},
   "outputs": [],
   "source": []
  }
 ],
 "metadata": {
  "language_info": {
   "name": "python",
   "pygments_lexer": "ipython3"
  }
 },
 "nbformat": 4,
 "nbformat_minor": 2
}
