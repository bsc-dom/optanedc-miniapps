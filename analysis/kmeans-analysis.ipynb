{
 "cells": [
  {
   "cell_type": "code",
   "execution_count": null,
   "metadata": {},
   "outputs": [],
   "source": [
    "# Boilerplate that all notebooks reuse:\n",
    "from analysis_common import *\n",
    "\n",
    "%matplotlib inline"
   ]
  },
  {
   "cell_type": "markdown",
   "metadata": {},
   "source": [
    "# Kernel analysis"
   ]
  },
  {
   "cell_type": "code",
   "execution_count": null,
   "metadata": {},
   "outputs": [],
   "source": [
    "df = read_ods(\"./results.ods\", \"kmeans-kernel\")\n",
    "expand_modes(df)\n",
    "\n",
    "order = ['DRAM', 'AD', 'MM (hot)', 'MM (cold)']\n",
    "\n",
    "sns.barplot(x='MODE', y='TIMING',\n",
    "            data=df[(df.POINTS_PER_FRAGMENT == 4000)],\n",
    "            capsize=0.1,\n",
    "            order=order,\n",
    "            palette=custom_kernel_palette(4))\n",
    "plt.title(\"4k points per fragment (small object)\")\n",
    "plt.ylabel(\"kernel exec time (s)\")\n",
    "plt.show()\n",
    "\n",
    "sns.barplot(x='MODE', y='TIMING',\n",
    "            data=df[(df.POINTS_PER_FRAGMENT == 200000)],\n",
    "            capsize=0.1,\n",
    "            order=order,\n",
    "            palette=custom_kernel_palette(4))\n",
    "plt.title(\"200k points per fragment (big object)\")\n",
    "plt.ylabel(\"kernel exec time (s)\")\n",
    "plt.show()\n"
   ]
  },
  {
   "cell_type": "code",
   "execution_count": null,
   "metadata": {},
   "outputs": [],
   "source": [
    "df.loc[(df.POINTS_PER_FRAGMENT == 4000), \"NORMALIZED\"] = df.TIMING \n",
    "df.loc[(df.POINTS_PER_FRAGMENT == 200000), \"NORMALIZED\"] = df.TIMING / 50\n",
    "\n",
    "ax = sns.barplot(x='MODE', y='NORMALIZED',\n",
    "                 data=df,\n",
    "                 capsize=0.1,\n",
    "                 order=order,\n",
    "                 hue=\"POINTS_PER_FRAGMENT\",\n",
    "                 palette=\"Set2\")\n",
    "\n",
    "kernel_plot_tweaks(ax, 50, legend_title=\"Points per fragment\", rotate=False)\n",
    "\n",
    "plt.savefig(\"kmeans-kernel.pdf\", bbox_inches='tight')\n",
    "plt.show()\n"
   ]
  },
  {
   "cell_type": "code",
   "execution_count": null,
   "metadata": {},
   "outputs": [],
   "source": []
  },
  {
   "cell_type": "code",
   "execution_count": null,
   "metadata": {},
   "outputs": [],
   "source": [
    "kernel_times = df.groupby([\"POINTS_PER_FRAGMENT\", \"MODE\"]).min()\n",
    "kernel_times"
   ]
  },
  {
   "cell_type": "markdown",
   "metadata": {},
   "source": [
    "# _k_-means results analysis"
   ]
  },
  {
   "cell_type": "code",
   "execution_count": null,
   "metadata": {},
   "outputs": [],
   "source": [
    "df = read_ods(\"./results.ods\", \"kmeans-app\")\n",
    "expand_modes(df)"
   ]
  },
  {
   "cell_type": "code",
   "execution_count": null,
   "metadata": {},
   "outputs": [],
   "source": [
    "for ppf in [200000, 4000]:\n",
    "    df.loc[(df.POINTS_PER_FRAGMENT == ppf) & (df.MODE == \"DRAM\"), \"ATOM_KERNEL\"] =  \\\n",
    "        kernel_times.loc[(ppf, \"DRAM\"), \"TIMING\"]\n",
    "    df.loc[(df.POINTS_PER_FRAGMENT == ppf) & (df.MODE == \"AD\"), \"ATOM_KERNEL\"] =  \\\n",
    "        kernel_times.loc[(ppf, \"AD\"), \"TIMING\"]\n",
    "    df.loc[(df.POINTS_PER_FRAGMENT == ppf) & (df.MODE == \"DAOS\"), \"ATOM_KERNEL\"] =  \\\n",
    "        kernel_times.loc[(ppf, \"DRAM\"), \"TIMING\"]\n",
    "\n",
    "df.loc[(df.POINTS_PER_FRAGMENT == 4000)\n",
    "       & (df.NUMBER_OF_FRAGMENTS == 1600)\n",
    "       & (df.MODE == \"MM\"),\n",
    "       \"ATOM_KERNEL\"] = kernel_times.loc[(4000, \"MM (hot)\"), \"TIMING\"]\n",
    "df.loc[(df.POINTS_PER_FRAGMENT == 200000) \n",
    "       & (df.NUMBER_OF_FRAGMENTS == 32) \n",
    "       & (df.MODE == \"MM\"),\n",
    "       \"ATOM_KERNEL\"] = kernel_times.loc[(200000, \"MM (hot)\"), \"TIMING\"]\n",
    "df.loc[(df.POINTS_PER_FRAGMENT == 4000) \n",
    "       & (df.NUMBER_OF_FRAGMENTS == 12800) \n",
    "       & (df.MODE == \"MM\"),\n",
    "       \"ATOM_KERNEL\"] = kernel_times.loc[(4000, \"MM (cold)\"), \"TIMING\"]\n",
    "df.loc[(df.POINTS_PER_FRAGMENT == 200000) \n",
    "       & (df.NUMBER_OF_FRAGMENTS == 256) \n",
    "       & (df.MODE == \"MM\"), \n",
    "       \"ATOM_KERNEL\"] = kernel_times.loc[(200000, \"MM (cold)\"), \"TIMING\"]\n",
    "\n",
    "df[\"KERNEL_TIME\"] = df[\"NUMBER_OF_FRAGMENTS\"] * df[\"KMEANS_ITERATIONS\"] * df[\"ATOM_KERNEL\"]\n",
    "\n",
    "# Sanity check\n",
    "null_values = df[df.isnull().values]\n",
    "if len(null_values) > 0:\n",
    "    null_values # show that"
   ]
  },
  {
   "cell_type": "code",
   "execution_count": null,
   "metadata": {},
   "outputs": [],
   "source": [
    "sns.set(style=\"whitegrid\")\n",
    "\n",
    "small = (\n",
    "    ((df.POINTS_PER_FRAGMENT == 200000) & (df.NUMBER_OF_FRAGMENTS == 32)) |\n",
    "    ((df.POINTS_PER_FRAGMENT == 4000) & (df.NUMBER_OF_FRAGMENTS == 1600))\n",
    ")\n",
    "\n",
    "big = (\n",
    "    ((df.POINTS_PER_FRAGMENT == 200000) & (df.NUMBER_OF_FRAGMENTS == 256)) |\n",
    "    ((df.POINTS_PER_FRAGMENT == 4000) & (df.NUMBER_OF_FRAGMENTS == 12800))\n",
    ")\n",
    "\n",
    "order = [\"DRAM\", \"AD\", \"MM\", \"DAOS\"]\n",
    "\n",
    "ax = sns.barplot(x='MODE', y=\"TIMING\",\n",
    "                 data=df[small],\n",
    "                 capsize=0.1,\n",
    "                 order=order,\n",
    "                 palette=\"Set1\",\n",
    "                 hue=df.POINTS_PER_FRAGMENT)\n",
    "\n",
    "bottom = sns.barplot(x='MODE', y=\"KERNEL_TIME\",\n",
    "            data=df[small],\n",
    "            capsize=0,\n",
    "            errwidth=0,\n",
    "            order=order,\n",
    "            palette=\"Set2\",\n",
    "            hue=df.POINTS_PER_FRAGMENT)\n",
    "\n",
    "xlabel_tweaks(ax, 3, 1)\n",
    "legend_tweaks(bottom, [\"small objects\", \"big objects\", \"kernel comp.\"], placement='upper left')\n",
    "plt.ylabel(\"execution time (s)\")\n",
    "plt.title(\"Small dataset\")\n",
    "save_tweaks('kmeans-small.pdf')\n",
    "plt.show()\n",
    "\n",
    "ax = sns.barplot(x='MODE', y=\"TIMING\",\n",
    "                 data=df[big],\n",
    "                 capsize=0.1,\n",
    "                 order=order,\n",
    "                 palette=\"Set1\",\n",
    "                 hue=df.POINTS_PER_FRAGMENT)\n",
    "\n",
    "annotate_dram(ax)\n",
    "\n",
    "bottom = sns.barplot(x='MODE', y=\"KERNEL_TIME\",\n",
    "            data=df[big],\n",
    "            capsize=0,\n",
    "            errwidth=0,\n",
    "            order=order,\n",
    "            color=\"blue\",\n",
    "            palette=\"Set2\",\n",
    "            hue=df.POINTS_PER_FRAGMENT)\n",
    "\n",
    "xlabel_tweaks(ax, 3, 1)\n",
    "legend_tweaks(bottom, [\"small objects\", \"big objects\", \"kernel comp.\"], placement='upper left')\n",
    "plt.ylabel(\"execution time (s)\")\n",
    "plt.title(\"Big dataset\")\n",
    "save_tweaks('kmeans-big.pdf')\n",
    "plt.show()"
   ]
  },
  {
   "cell_type": "code",
   "execution_count": null,
   "metadata": {},
   "outputs": [],
   "source": []
  }
 ],
 "metadata": {
  "language_info": {
   "name": "python",
   "pygments_lexer": "ipython3"
  }
 },
 "nbformat": 4,
 "nbformat_minor": 2
}
